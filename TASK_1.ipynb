{
  "nbformat": 4,
  "nbformat_minor": 0,
  "metadata": {
    "colab": {
      "provenance": [],
      "include_colab_link": true
    },
    "kernelspec": {
      "name": "python3",
      "display_name": "Python 3"
    },
    "language_info": {
      "name": "python"
    }
  },
  "cells": [
    {
      "cell_type": "markdown",
      "metadata": {
        "id": "view-in-github",
        "colab_type": "text"
      },
      "source": [
        "<a href=\"https://colab.research.google.com/github/urfavnada/GDSC-Tasks/blob/main/TASK_1.ipynb\" target=\"_parent\"><img src=\"https://colab.research.google.com/assets/colab-badge.svg\" alt=\"Open In Colab\"/></a>"
      ]
    },
    {
      "cell_type": "markdown",
      "source": [
        "# Task_1"
      ],
      "metadata": {
        "id": "5tiqkSxGtqRH"
      }
    },
    {
      "cell_type": "markdown",
      "source": [
        "# <font color='red'> 1) Mark down all the Valid boolean expression in python: </font> \n",
        "\n",
        "#### A) n > 100 and < 500\n",
        "#### B) n > 100 and n < 500\n",
        "#### C) 100 < n < 500\n"
      ],
      "metadata": {
        "id": "YWgp6TQynE42"
      }
    },
    {
      "cell_type": "code",
      "source": [],
      "metadata": {
        "id": "3xBB-JLJuJ-8"
      },
      "execution_count": null,
      "outputs": []
    },
    {
      "cell_type": "code",
      "source": [
        "A = False #@param {type:\"boolean\"} \n",
        "B = True #@param {type:\"boolean\"} \n",
        "C = True #@param {type:\"boolean\"} \n"
      ],
      "metadata": {
        "id": "WaBM7Ua0l96Z"
      },
      "execution_count": null,
      "outputs": []
    },
    {
      "cell_type": "markdown",
      "source": [
        "\n",
        "# <font color='red'> 2) Fill the gaps to get the ouput as in the example below:\n",
        "##### (For any string greater than 3 characters)\n",
        "#### **Input**: \"globalization\" \n",
        "#### **Output**: g11n\n",
        "#### **\n",
        "#### **Input**: \"subjective\" \n",
        "#### **Output**: s8e\n",
        "#### **\n",
        "\n",
        "### YOUR CODE: \n",
        "<font color='brown'> **s = input()** \n",
        "<br> **print(... + ... + ...)**\n"
      ],
      "metadata": {
        "id": "rzaw1bLYjps-"
      }
    },
    {
      "cell_type": "code",
      "source": [
        "s = input()\n",
        "print(s[0] + str(len(s[1:-1])) + s[-1])"
      ],
      "metadata": {
        "id": "HgAM8xvtnEbf",
        "colab": {
          "base_uri": "https://localhost:8080/"
        },
        "outputId": "35b0c000-4cb6-4aec-a479-6b9fd26e441c"
      },
      "execution_count": 2,
      "outputs": [
        {
          "output_type": "stream",
          "name": "stdout",
          "text": [
            "subjective\n",
            "s8e\n"
          ]
        }
      ]
    },
    {
      "cell_type": "markdown",
      "source": [
        "# <font color='red'> 3) Create a tuple of 10 elements and then multiply each element of the tuple by 2 & save the results in a list"
      ],
      "metadata": {
        "id": "S-tbOKj-lkek"
      }
    },
    {
      "cell_type": "code",
      "source": [
        "my_tuple = (1,2,3,4,5,6,7,8,9,10)\n",
        "my_list = []\n",
        "for i in my_tuple :\n",
        "    my_list.append(i * 2)\n",
        "print(my_list)"
      ],
      "metadata": {
        "id": "B49aQLyil_gC",
        "colab": {
          "base_uri": "https://localhost:8080/"
        },
        "outputId": "92269340-e089-4ae1-d5fa-cc7bebc63ce3"
      },
      "execution_count": 3,
      "outputs": [
        {
          "output_type": "stream",
          "name": "stdout",
          "text": [
            "[2, 4, 6, 8, 10, 12, 14, 16, 18, 20]\n"
          ]
        }
      ]
    },
    {
      "cell_type": "markdown",
      "source": [
        "# <font color='red'> 4) Reverse the string 'Mansoura' using slicing"
      ],
      "metadata": {
        "id": "LCdj2MzVp_7v"
      }
    },
    {
      "cell_type": "code",
      "source": [
        "s = 'Mansoura'\n",
        "r = s[::-1]\n",
        "print(r)"
      ],
      "metadata": {
        "id": "SubUk05Cs_k6",
        "colab": {
          "base_uri": "https://localhost:8080/"
        },
        "outputId": "5c7fde1b-0781-4188-a73b-559a08a45f73"
      },
      "execution_count": 4,
      "outputs": [
        {
          "output_type": "stream",
          "name": "stdout",
          "text": [
            "aruosnaM\n"
          ]
        }
      ]
    },
    {
      "cell_type": "markdown",
      "source": [
        "# <font color='red'> 5) Use List Comprehension to create a list of the first letters of ever-y word in the string below:\n",
        "\n",
        "* st = 'Friendship is the tree of its seeds tender'"
      ],
      "metadata": {
        "id": "XF8kQVzzsD6t"
      }
    },
    {
      "cell_type": "code",
      "source": [
        "st = 'Friendship is the tree of its seeds tender'\n",
        "\n",
        "first_letter = []\n",
        "for i in st.split() :\n",
        "    first_letter.append(i[0])\n",
        "print(first_letter)"
      ],
      "metadata": {
        "id": "4BaX05QQtA7f",
        "colab": {
          "base_uri": "https://localhost:8080/"
        },
        "outputId": "340b41f0-091c-4efe-dabc-d77c458aaed0"
      },
      "execution_count": 5,
      "outputs": [
        {
          "output_type": "stream",
          "name": "stdout",
          "text": [
            "['F', 'i', 't', 't', 'o', 'i', 's', 't']\n"
          ]
        }
      ]
    },
    {
      "cell_type": "markdown",
      "source": [
        "# <font color='cyan'> BONUS <font color='red'> 6) Create a class called car that include some valriables like : \n",
        "* name\n",
        "* color\n",
        "* age"
      ],
      "metadata": {
        "id": "GQo7e9YPmlQ0"
      }
    },
    {
      "cell_type": "code",
      "source": [
        "class car :\n",
        "  def __init__(self,name,color,age):\n",
        "    self.name = name \n",
        "    self.color = color\n",
        "    self.age = age"
      ],
      "metadata": {
        "id": "PG15Tr-8tfni"
      },
      "execution_count": 7,
      "outputs": []
    },
    {
      "cell_type": "markdown",
      "source": [
        "# <font color='red'> **Solve these problems with python**:<br>\n",
        "<a href='https://www.hackerrank.com/challenges/python-string-split-and-join/problem'> **problem 1**\n",
        "    <br>\n",
        "    <br>\n",
        "<a href='https://www.hackerrank.com/challenges/py-if-else/problem'> **problem 2**\n",
        "<br>\n",
        "<br>\n",
        "<a href='https://codeforces.com/group/MWSDmqGsZm/contest/219158/problem/Y'> **problem 3**\n",
        "    <br>\n",
        "    <br>\n",
        "<a href='https://www.hackerrank.com/challenges/list-comprehensions/problem'> **problem 4** <font color='cyan'> BONUS\n",
        "    <br>\n",
        "    <br>\n",
        "<a href='https://www.hackerrank.com/challenges/swap-case/problem'> **problem 5** <font color='cyan'> BONUS\n",
        "    <br>\n",
        "    <br>\n",
        "<a href='https://codeforces.com/group/MWSDmqGsZm/contest/219158/problem/X'> **problem 6** <font color='cyan'> BONUS\n",
        "    <br>\n"
      ],
      "metadata": {
        "id": "T4VSxkHzuaDa"
      }
    },
    {
      "cell_type": "code",
      "source": [
        "#problem 1 \n",
        "\n",
        "def split_and_join(line):\n",
        "    word = line.split()\n",
        "    join_word = \"-\".join(word)\n",
        "    return join_word\n",
        "\n",
        "if __name__ == '__main__':\n",
        "    line = input()\n",
        "    result = split_and_join(line)\n",
        "    print(result)\n",
        "\n",
        "\n",
        "# i have another solution but without this function\n",
        "#  line = input()\n",
        "#  print(line.replace(\" \" , \"-\"))\n",
        "\n"
      ],
      "metadata": {
        "id": "WfsduVL1vqsP",
        "colab": {
          "base_uri": "https://localhost:8080/"
        },
        "outputId": "1ea14daf-070c-42e8-bfb8-b7340ceb05ee"
      },
      "execution_count": 9,
      "outputs": [
        {
          "output_type": "stream",
          "name": "stdout",
          "text": [
            "I love IEEE\n",
            "I-love-IEEE\n"
          ]
        }
      ]
    },
    {
      "cell_type": "code",
      "source": [
        "#problem 2\n",
        "\n",
        "n = int(input())\n",
        "if n > 0 :\n",
        "    if n % 2 == 0 :\n",
        "        if n in range(2,5):\n",
        "            print(\"Not Weird\")\n",
        "        if n in range(6,21):\n",
        "            print(\"Weird\")\n",
        "        if n > 20 :\n",
        "            print(\"Not Weird\")\n",
        "    if n % 2 != 0 :\n",
        "        print(\"Weird\")\n",
        "else :\n",
        "    print(\"error\")\n",
        "\n",
        "\n"
      ],
      "metadata": {
        "id": "tV6DFexRvq5-",
        "colab": {
          "base_uri": "https://localhost:8080/"
        },
        "outputId": "b739fbad-bf7e-44bb-a6aa-49c024063542"
      },
      "execution_count": 8,
      "outputs": [
        {
          "output_type": "stream",
          "name": "stdout",
          "text": [
            "10\n",
            "Weird\n"
          ]
        }
      ]
    },
    {
      "cell_type": "code",
      "source": [
        "#problem 3\n",
        "\n",
        "A, B, C, D = map(int, input().split())\n",
        "if A and B and C and D in range (2,10**9) :\n",
        "    multiplication = A * B * C * D \n",
        "    last_two = multiplication % 100\n",
        "    print(last_two)\n",
        "\n"
      ],
      "metadata": {
        "id": "8L9HjXVIvrB-",
        "colab": {
          "base_uri": "https://localhost:8080/"
        },
        "outputId": "a1becd39-070b-4f7c-bfe7-4f508e21dca3"
      },
      "execution_count": 10,
      "outputs": [
        {
          "output_type": "stream",
          "name": "stdout",
          "text": [
            "5 7 2 4\n",
            "80\n"
          ]
        }
      ]
    },
    {
      "cell_type": "code",
      "source": [
        "#problem 4\n",
        "\n",
        "\n",
        "\n"
      ],
      "metadata": {
        "id": "3f6ciBn7vrOL"
      },
      "execution_count": null,
      "outputs": []
    },
    {
      "cell_type": "code",
      "source": [
        "#problem 5 \n",
        "def swap_case(s):\n",
        "    return s.swapcase()\n",
        "\n",
        "if __name__ == '__main__':\n",
        "    s = input()\n",
        "    result = swap_case(s)\n",
        "    print(result)\n",
        "\n",
        "\n"
      ],
      "metadata": {
        "id": "VfYvejyOvrem",
        "colab": {
          "base_uri": "https://localhost:8080/"
        },
        "outputId": "e3ab1e9c-db54-4ae1-e98d-66cb1d8b09ca"
      },
      "execution_count": 11,
      "outputs": [
        {
          "output_type": "stream",
          "name": "stdout",
          "text": [
            "NaDa\n",
            "nAdA\n"
          ]
        }
      ]
    },
    {
      "cell_type": "code",
      "source": [
        "#problem 6\n",
        "\n",
        "l1, r1, l2, r2 = map(int, input().split())\n",
        "first_interval = (l1, r1)\n",
        "second_interval = (l2, r2)\n",
        "\n",
        "\n",
        "if l1 == l2 and r2 < r1 :\n",
        "    print(\"%s\" \" \" \"%s\" % (l2, r2))\n",
        "elif l1 < l2 and r1 < r2 :\n",
        "    print(\"%s\" \" \" \"%s\" % (l2, r1))\n",
        "elif l1 > l2 and r1 < r2 :\n",
        "    print(\"%s\" \" \" \"%s\" % (l1, r1))\n",
        "elif l1 < l2 and r1 > r2 :\n",
        "    print(\"%s\" \" \" \"%s\" % (l2, r2))\n",
        "else :\n",
        "    print(\"-1\")\n",
        "\n"
      ],
      "metadata": {
        "id": "QgXXw8otvr8D",
        "colab": {
          "base_uri": "https://localhost:8080/"
        },
        "outputId": "3a666ac8-d453-4ce7-e3ea-6b1db8dd56f6"
      },
      "execution_count": 12,
      "outputs": [
        {
          "output_type": "stream",
          "name": "stdout",
          "text": [
            "1 15 5 27\n",
            "5 15\n"
          ]
        }
      ]
    }
  ]
}